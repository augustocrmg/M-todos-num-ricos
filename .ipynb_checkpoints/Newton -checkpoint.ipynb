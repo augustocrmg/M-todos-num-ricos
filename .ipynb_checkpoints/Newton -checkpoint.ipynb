{
 "cells": [
  {
   "cell_type": "code",
   "execution_count": 1,
   "id": "e978666f",
   "metadata": {},
   "outputs": [],
   "source": [
    "import numpy as np\n",
    "import matplotlib.pyplot as plt\n",
    "from math import e"
   ]
  },
  {
   "cell_type": "code",
   "execution_count": 2,
   "id": "f61d274f",
   "metadata": {},
   "outputs": [],
   "source": [
    "# 100 linearly spaced numbers\n",
    "x = np.linspace(-5,5,100)\n",
    "y = (x**2)-(e**(-x))"
   ]
  },
  {
   "cell_type": "code",
   "execution_count": 3,
   "id": "ee5eacd6",
   "metadata": {},
   "outputs": [],
   "source": [
    "# the function, which is y = x^2 here\n",
    "def function(x):\n",
    "    y = (x**2)-(e**(-x)) \n",
    "    return y"
   ]
  },
  {
   "cell_type": "code",
   "execution_count": 4,
   "id": "3e2c380b",
   "metadata": {},
   "outputs": [
    {
     "data": {
      "image/png": "[encoded data removed]",
      "text/plain": [
       "<Figure size 432x288 with 1 Axes>"
      ]
     },
     "metadata": {
      "needs_background": "light"
     },
     "output_type": "display_data"
    }
   ],
   "source": [
    "# setting the axes at the centre\n",
    "fig = plt.figure()\n",
    "ax = fig.add_subplot(1, 1, 1)\n",
    "ax.spines['left'].set_position('center')\n",
    "ax.spines['bottom'].set_position('zero')\n",
    "ax.spines['right'].set_color('none')\n",
    "ax.spines['top'].set_color('none')\n",
    "ax.xaxis.set_ticks_position('bottom')\n",
    "ax.yaxis.set_ticks_position('left')\n",
    "plt.grid(True)\n",
    "# plot the function\n",
    "plt.plot(x,y, 'r')\n",
    "# show the plot\n",
    "plt.show()"
   ]
  },
  {
   "cell_type": "code",
   "execution_count": 36,
   "id": "dcba0707",
   "metadata": {},
   "outputs": [],
   "source": [
    "def newton(f,Df,x0,epsilon,max_iter):\n",
    "    '''Aproxima a solução de f(x)=0 pelo método de Newton.\n",
    "\n",
    "    Parameters\n",
    "    ----------\n",
    "    f : função\n",
    "        Função para qual se está procurando a solução f(x)=0.\n",
    "    Df : função\n",
    "        Derivada de f(x).\n",
    "    x0 : número\n",
    "        Suposição inicial para uma solução f(x)=0.\n",
    "    epsilon : número\n",
    "        O critério de parada é abs(f(x)) < epsilon.\n",
    "    max_iter : inteiro\n",
    "        Número máximo de iterações do método de Newton. \n",
    "\n",
    "    Returns\n",
    "    -------\n",
    "    xn : numero\n",
    "        Implementação do método de Newton: compute a aproximação linear\n",
    "        de f(x) em xn e encontre x interceptado pela fórmula\n",
    "            x = xn - f(xn)/Df(xn)\n",
    "        Continue enquanto abs(f(xn)) < epsilon e retorna xn.\n",
    "        Se Df(xn) == 0, retorna None. Se o número de iterações\n",
    "        exceder max_iter, então retorna None.\n",
    "\n",
    "    Exemplos\n",
    "    --------\n",
    "    >>> f = lambda x: x**2 - x - 1\n",
    "    >>> Df = lambda x: 2*x - 1\n",
    "    >>> newton(f,Df,1,1e-8,10)\n",
    "    A solução foi encontrada após 5 iterações.\n",
    "    1.618033988749989\n",
    "    '''\n",
    "    xn = x0\n",
    "    for n in range(0,max_iter):\n",
    "        print(f'iteração = {n+1}')\n",
    "        fxn = f(xn)\n",
    "        print(f'f(x{n+1}) = {fxn}')\n",
    "        if abs(fxn) < epsilon:\n",
    "            print(f'A solução foi encontrada após {n} iterações.')\n",
    "            return xn\n",
    "        Dfxn = Df(xn)\n",
    "        print(f'f`(x{n+1}) = {Dfxn}')\n",
    "        if Dfxn == 0:\n",
    "            print('Derivada zero. Nenhuma solução encontrada.')\n",
    "            return None\n",
    "        print(f'x{n+2} = {xn} - ({fxn}/{Dfxn})')\n",
    "        xn = xn - fxn/Dfxn\n",
    "        print(f'x{n+2} = {xn}')\n",
    "        print('\\n')\n",
    "    print('Excede o número máximo de iterações. Nenhuma solução encontrada.')\n",
    "    return None\n"
   ]
  },
  {
   "cell_type": "code",
   "execution_count": 37,
   "id": "465c27c9",
   "metadata": {},
   "outputs": [
    {
     "name": "stdout",
     "output_type": "stream",
     "text": [
      "iteração = 1\n",
      "f(x1) = 0.6321205588285577\n",
      "f`(x1) =2.3678794411714423\n",
      "x2 = 1 - (0.6321205588285577/2.3678794411714423)\n",
      "x2 = 0.7330436052454454\n",
      "\n",
      "\n",
      "iteração = 2\n",
      "f(x2) = 0.05690844800402539\n",
      "f`(x2) =1.946531689678106\n",
      "x3 = 0.7330436052454454 - (0.05690844800402539/1.946531689678106)\n",
      "x3 = 0.703807786324133\n",
      "\n",
      "\n",
      "iteração = 3\n",
      "f(x3) = 0.000647391538746489\n",
      "f`(x3) =1.902313581199996\n",
      "x4 = 0.703807786324133 - (0.000647391538746489/1.902313581199996)\n",
      "x4 = 0.7034674683317975\n",
      "\n",
      "\n",
      "iteração = 4\n",
      "f(x4) = 8.716603056013739e-08\n",
      "f`(x4) =1.901801328498713\n",
      "x5 = 0.7034674683317975 - (8.716603056013739e-08/1.901801328498713)\n",
      "x5 = 0.7034674224983924\n",
      "\n",
      "\n",
      "iteração = 5\n",
      "f(x5) = 1.4988010832439613e-15\n",
      "A solução foi encontrada após 4 iterações.\n",
      "0.7034674224983924\n"
     ]
    }
   ],
   "source": [
    "p = lambda z:(z**2)-(e**(-z))\n",
    "Dp = lambda z:(2*z)+(e**(-z))\n",
    "approx = newton(p,Dp,1,1e-10,10000)\n",
    "print(approx)"
   ]
  },
  {
   "cell_type": "code",
   "execution_count": null,
   "id": "e9767bd7",
   "metadata": {},
   "outputs": [],
   "source": []
  },
  {
   "cell_type": "code",
   "execution_count": null,
   "id": "f661c375",
   "metadata": {},
   "outputs": [],
   "source": []
  }
 ],
 "metadata": {
  "kernelspec": {
   "display_name": "Python 3.8.8 64-bit ('base': conda)",
   "language": "python",
   "name": "python388jvsc74a57bd09ce0952ff6b7703ad76d22f6fe0d43fce5ecd4387907aaa0af2410b7aa492de3"
  },
  "language_info": {
   "codemirror_mode": {
    "name": "ipython",
    "version": 3
   },
   "file_extension": ".py",
   "mimetype": "text/x-python",
   "name": "python",
   "nbconvert_exporter": "python",
   "pygments_lexer": "ipython3",
   "version": "3.8.8"
  }
 },
 "nbformat": 4,
 "nbformat_minor": 5
}
