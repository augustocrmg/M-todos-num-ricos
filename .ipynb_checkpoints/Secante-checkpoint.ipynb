{
 "cells": [
  {
   "cell_type": "code",
   "execution_count": 2,
   "id": "0ea1e2c5",
   "metadata": {},
   "outputs": [],
   "source": [
    "import numpy as np\n",
    "import matplotlib.pyplot as plt\n",
    "from math import e\n",
    "import math"
   ]
  },
  {
   "cell_type": "code",
   "execution_count": 4,
   "id": "08605dec",
   "metadata": {},
   "outputs": [
    {
     "ename": "AttributeError",
     "evalue": "'float' object has no attribute 'cos'",
     "output_type": "error",
     "traceback": [
      "\u001b[0;31m----------------------------------------------------------------------\u001b[0m",
      "\u001b[0;31mAttributeError\u001b[0m                       Traceback (most recent call last)",
      "\u001b[0;32m<ipython-input-4-b34e5a4150a9>\u001b[0m in \u001b[0;36m<module>\u001b[0;34m\u001b[0m\n\u001b[1;32m      2\u001b[0m \u001b[0mx\u001b[0m \u001b[0;34m=\u001b[0m \u001b[0mnp\u001b[0m\u001b[0;34m.\u001b[0m\u001b[0mlinspace\u001b[0m\u001b[0;34m(\u001b[0m\u001b[0;34m-\u001b[0m\u001b[0;36m2\u001b[0m\u001b[0;34m,\u001b[0m\u001b[0;36m2\u001b[0m\u001b[0;34m,\u001b[0m\u001b[0;36m20\u001b[0m\u001b[0;34m)\u001b[0m\u001b[0;34m\u001b[0m\u001b[0;34m\u001b[0m\u001b[0m\n\u001b[1;32m      3\u001b[0m \u001b[0;31m# Função usada para determinar os pontos\u001b[0m\u001b[0;34m\u001b[0m\u001b[0;34m\u001b[0m\u001b[0;34m\u001b[0m\u001b[0m\n\u001b[0;32m----> 4\u001b[0;31m \u001b[0my\u001b[0m \u001b[0;34m=\u001b[0m \u001b[0me\u001b[0m\u001b[0;34m.\u001b[0m\u001b[0mcos\u001b[0m\u001b[0;34m(\u001b[0m\u001b[0mx\u001b[0m\u001b[0;34m)\u001b[0m\u001b[0;34m\u001b[0m\u001b[0;34m\u001b[0m\u001b[0m\n\u001b[0m",
      "\u001b[0;31mAttributeError\u001b[0m: 'float' object has no attribute 'cos'"
     ]
    }
   ],
   "source": [
    "# Matrix de valores usados para plotas os pontos da função \n",
    "x = np.linspace(-2,2,20)\n",
    "# Função usada para determinar os pontos\n",
    "y = e.cos(x)"
   ]
  },
  {
   "cell_type": "code",
   "execution_count": 6,
   "id": "dedf4347",
   "metadata": {},
   "outputs": [
    {
     "data": {
      "image/png": "[encoded data removed]",
      "text/plain": [
       "<Figure size 432x288 with 1 Axes>"
      ]
     },
     "metadata": {
      "needs_background": "light"
     },
     "output_type": "display_data"
    }
   ],
   "source": [
    "# Plot da função y\n",
    "# Recomenda-se fortemente basear-se no desenho da função para pensar nos\n",
    "#   valores a e b usados \n",
    "fig = plt.figure()\n",
    "ax = fig.add_subplot(1, 1, 1)\n",
    "ax.spines['left'].set_position('center')\n",
    "ax.spines['bottom'].set_position('zero')\n",
    "ax.spines['right'].set_color('none')\n",
    "ax.spines['top'].set_color('none')\n",
    "ax.xaxis.set_ticks_position('bottom')\n",
    "ax.yaxis.set_ticks_position('left')\n",
    "plt.grid(True)\n",
    "plt.plot(x,y, 'r')\n",
    "plt.show()"
   ]
  },
  {
   "cell_type": "code",
   "execution_count": 7,
   "id": "2fe784a3",
   "metadata": {
    "scrolled": true
   },
   "outputs": [],
   "source": [
    "a = float(-2)\n",
    "b = float(2)\n",
    "nIter = int(10000)\n",
    "tolerancia = float(0.000001)"
   ]
  },
  {
   "cell_type": "code",
   "execution_count": 8,
   "id": "8763b3b9",
   "metadata": {},
   "outputs": [],
   "source": [
    "def secante(f,a,b,N):\n",
    "    '''Aproxima a solução de f(x)=0 no intervalo [a,b] pelo método da secante.\n",
    "\n",
    "    Parâmetros\n",
    "    ----------\n",
    "    f : função\n",
    "        Função que nós estamos tentando aproximar o resultado f(x)=0.\n",
    "    a,b : Pontos do intervalo\n",
    "        Representam o intervalo pelo qual nós estamos procurando o resultado. A função retorna\n",
    "        None se f(a)*f(b) >= 0, pois não há solução garantida. \n",
    "    N : numero\n",
    "        Número de iterções que será implementado\n",
    "\n",
    "    Retorno\n",
    "    -------\n",
    "    m_N : numero\n",
    "        A interceptação x da linha secante no enésimo intervalo\n",
    "            m_n = a_n - f(a_n)*(b_n - a_n)/(f(b_n) - f(a_n))\n",
    "        O intervalo inicial [a_0,b_0] é dado por [a,b]. Se f(m_n) == 0\n",
    "        para alguma interceptação m_n então a função retornara a solução.\n",
    "        Se todos os sinais de valores f(a_n), f(b_n) e f(m_n) são os mesmos em qualquer \n",
    "        iteração, o método secante falha e retorna None.\n",
    "\n",
    "    Exemplos\n",
    "    --------\n",
    "    >>> f = lambda x: x**2 - x - 1\n",
    "    >>> secante(f,1,2,5)\n",
    "    1.6180257510729614\n",
    "    '''\n",
    "    if f(a)*f(b) >= 0:\n",
    "        print(\"O método secante falhou.\")\n",
    "        return None\n",
    "    a_n = a\n",
    "    b_n = b\n",
    "    for n in range(1,N+1):\n",
    "        m_n = a_n - f(a_n)*(b_n - a_n)/(f(b_n) - f(a_n))\n",
    "        print(f'Iteração = {n}\\nX(i+1) = {a_n} - ({f(a_n)}*{(b_n - a_n)})/({f(b_n)} - {f(a_n)})\\nX(i+1) = {m_n}')\n",
    "        f_m_n = f(m_n)\n",
    "        if f(a_n)*f_m_n < 0:\n",
    "            a_n = a_n\n",
    "            b_n = m_n\n",
    "        elif f(b_n)*f_m_n < 0:\n",
    "            a_n = m_n\n",
    "            b_n = b_n\n",
    "        elif f_m_n == 0:\n",
    "            print(\"Solução exata = \")\n",
    "            return m_n\n",
    "        else:\n",
    "            print(\"O método secante falhou.\")\n",
    "            return None\n",
    "    return a_n - f(a_n)*(b_n - a_n)/(f(b_n) - f(a_n))"
   ]
  },
  {
   "cell_type": "code",
   "execution_count": 1,
   "id": "32ba379b",
   "metadata": {
    "scrolled": false
   },
   "outputs": [
    {
     "ename": "NameError",
     "evalue": "name 'secante' is not defined",
     "output_type": "error",
     "traceback": [
      "\u001b[0;31m----------------------------------------------------------------------\u001b[0m",
      "\u001b[0;31mNameError\u001b[0m                            Traceback (most recent call last)",
      "\u001b[0;32m<ipython-input-1-5d640d2e5417>\u001b[0m in \u001b[0;36m<module>\u001b[0;34m\u001b[0m\n\u001b[1;32m      1\u001b[0m \u001b[0mf\u001b[0m \u001b[0;34m=\u001b[0m \u001b[0;32mlambda\u001b[0m \u001b[0mz\u001b[0m\u001b[0;34m:\u001b[0m\u001b[0mcos\u001b[0m\u001b[0;34m(\u001b[0m\u001b[0mz\u001b[0m\u001b[0;34m)\u001b[0m\u001b[0;34m\u001b[0m\u001b[0;34m\u001b[0m\u001b[0m\n\u001b[0;32m----> 2\u001b[0;31m \u001b[0mapprox\u001b[0m \u001b[0;34m=\u001b[0m \u001b[0msecante\u001b[0m\u001b[0;34m(\u001b[0m\u001b[0mf\u001b[0m\u001b[0;34m,\u001b[0m\u001b[0ma\u001b[0m\u001b[0;34m,\u001b[0m\u001b[0mb\u001b[0m\u001b[0;34m,\u001b[0m\u001b[0mnIter\u001b[0m\u001b[0;34m)\u001b[0m\u001b[0;34m\u001b[0m\u001b[0;34m\u001b[0m\u001b[0m\n\u001b[0m\u001b[1;32m      3\u001b[0m \u001b[0mprint\u001b[0m\u001b[0;34m(\u001b[0m\u001b[0mapprox\u001b[0m\u001b[0;34m)\u001b[0m\u001b[0;34m\u001b[0m\u001b[0;34m\u001b[0m\u001b[0m\n",
      "\u001b[0;31mNameError\u001b[0m: name 'secante' is not defined"
     ]
    }
   ],
   "source": [
    "f = lambda z:cos(z)\n",
    "approx = secante(f,a,b,nIter)\n",
    "print(approx)"
   ]
  },
  {
   "cell_type": "code",
   "execution_count": null,
   "id": "2cf02ead",
   "metadata": {},
   "outputs": [],
   "source": []
  }
 ],
 "metadata": {
  "kernelspec": {
   "display_name": "Python 3.8.8 64-bit ('base': conda)",
   "language": "python",
   "name": "python388jvsc74a57bd09ce0952ff6b7703ad76d22f6fe0d43fce5ecd4387907aaa0af2410b7aa492de3"
  },
  "language_info": {
   "codemirror_mode": {
    "name": "ipython",
    "version": 3
   },
   "file_extension": ".py",
   "mimetype": "text/x-python",
   "name": "python",
   "nbconvert_exporter": "python",
   "pygments_lexer": "ipython3",
   "version": "3.8.8"
  }
 },
 "nbformat": 4,
 "nbformat_minor": 5
}
