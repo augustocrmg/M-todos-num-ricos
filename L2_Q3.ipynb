{
 "cells": [
  {
   "cell_type": "code",
   "execution_count": 2,
   "id": "d55944b4",
   "metadata": {
    "scrolled": true
   },
   "outputs": [],
   "source": [
    "import numpy as np"
   ]
  },
  {
   "cell_type": "code",
   "execution_count": 24,
   "id": "de9081ba",
   "metadata": {},
   "outputs": [
    {
     "name": "stdout",
     "output_type": "stream",
     "text": [
      "Dd = 14.000000000000004\n",
      "\n",
      "Dx = -8.999999999999998\n",
      "x = -0.6428571428571426\n",
      "\n",
      "Dy = 5.000000000000001\n",
      "y = 0.3571428571428571\n",
      "\n",
      "Dz = -12.000000000000005\n",
      "z = -0.8571428571428573\n",
      "\n"
     ]
    }
   ],
   "source": [
    "# D = [[2,2,-3,2],[-1,3,2,0],[3,1,-3,1]]\n",
    "d = np.array([[2,2,-3],[-1,3,2],[3,1,-3]])\n",
    "Dd = np.linalg.det(d)\n",
    "print(f'Dd = {Dd}\\n')\n",
    "x = np.array([[2,2,-3],[0,3,2],[1,1,-3]])\n",
    "Dx = np.linalg.det(x)\n",
    "print(f'Dx = {Dx}')\n",
    "print(f'x = {Dx/Dd}\\n')\n",
    "y = np.array([[2,2,-3],[-1,0,2],[3,1,-3]])\n",
    "Dy = np.linalg.det(y)\n",
    "print(f'Dy = {Dy}')\n",
    "print(f'y = {Dy/Dd}\\n')\n",
    "z = np.array([[2,2,2],[-1,3,0],[3,1,1]])\n",
    "Dz = np.linalg.det(z)\n",
    "print(f'Dz = {Dz}')\n",
    "print(f'z = {Dz/Dd}\\n')"
   ]
  },
  {
   "cell_type": "code",
   "execution_count": 7,
   "id": "4d2e24a4",
   "metadata": {},
   "outputs": [
    {
     "name": "stdout",
     "output_type": "stream",
     "text": [
      "[[1 2]\n",
      " [3 4]]\n"
     ]
    }
   ],
   "source": []
  },
  {
   "cell_type": "code",
   "execution_count": null,
   "id": "28bd128d",
   "metadata": {},
   "outputs": [],
   "source": []
  }
 ],
 "metadata": {
  "kernelspec": {
   "display_name": "Python 3.8.8 64-bit ('base': conda)",
   "language": "python",
   "name": "python388jvsc74a57bd09ce0952ff6b7703ad76d22f6fe0d43fce5ecd4387907aaa0af2410b7aa492de3"
  },
  "language_info": {
   "codemirror_mode": {
    "name": "ipython",
    "version": 3
   },
   "file_extension": ".py",
   "mimetype": "text/x-python",
   "name": "python",
   "nbconvert_exporter": "python",
   "pygments_lexer": "ipython3",
   "version": "3.8.8"
  }
 },
 "nbformat": 4,
 "nbformat_minor": 5
}
